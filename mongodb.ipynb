{
 "cells": [
  {
   "cell_type": "code",
   "execution_count": 1,
   "id": "8ef754b1",
   "metadata": {},
   "outputs": [
    {
     "name": "stdout",
     "output_type": "stream",
     "text": [
      "Collecting pymongo\n",
      "  Downloading pymongo-3.12.0-cp39-cp39-win_amd64.whl (397 kB)\n",
      "Installing collected packages: pymongo\n",
      "Successfully installed pymongo-3.12.0\n"
     ]
    }
   ],
   "source": [
    "!pip install pymongo"
   ]
  },
  {
   "cell_type": "code",
   "execution_count": 28,
   "id": "fc4c9498",
   "metadata": {},
   "outputs": [],
   "source": [
    "client = pymongo.MongoClient(\"mongodb://localhost:27017/\")\n",
    "db = client[\"customersdb\"]\n",
    "customers = db[\"customers\"]"
   ]
  },
  {
   "cell_type": "code",
   "execution_count": 29,
   "id": "4abe5ab8",
   "metadata": {},
   "outputs": [],
   "source": [
    "customers_list = {\"name\":\"hari\", \"address\":\"79898\"}"
   ]
  },
  {
   "cell_type": "code",
   "execution_count": 30,
   "id": "e01111a6",
   "metadata": {},
   "outputs": [
    {
     "name": "stderr",
     "output_type": "stream",
     "text": [
      "C:\\Users\\SRIHAR~1\\AppData\\Local\\Temp/ipykernel_21932/2360200371.py:1: DeprecationWarning: insert is deprecated. Use insert_one or insert_many instead.\n",
      "  customers.insert(customers_list)\n"
     ]
    },
    {
     "data": {
      "text/plain": [
       "ObjectId('6118d7a95b253c79167ba4cf')"
      ]
     },
     "execution_count": 30,
     "metadata": {},
     "output_type": "execute_result"
    }
   ],
   "source": [
    "customers.insert(customers_list)"
   ]
  },
  {
   "cell_type": "code",
   "execution_count": null,
   "id": "ef5e3d78",
   "metadata": {},
   "outputs": [],
   "source": []
  },
  {
   "cell_type": "code",
   "execution_count": 2,
   "id": "ffab8901",
   "metadata": {},
   "outputs": [
    {
     "name": "stdout",
     "output_type": "stream",
     "text": [
      "[ObjectId('6118a5395b253c79167ba4c1'), ObjectId('6118a5395b253c79167ba4c2'), ObjectId('6118a5395b253c79167ba4c3'), ObjectId('6118a5395b253c79167ba4c4'), ObjectId('6118a5395b253c79167ba4c5'), ObjectId('6118a5395b253c79167ba4c6'), ObjectId('6118a5395b253c79167ba4c7'), ObjectId('6118a5395b253c79167ba4c8'), ObjectId('6118a5395b253c79167ba4c9'), ObjectId('6118a5395b253c79167ba4ca'), ObjectId('6118a5395b253c79167ba4cb'), ObjectId('6118a5395b253c79167ba4cc')]\n"
     ]
    }
   ],
   "source": [
    "import pymongo  # package for working with MongoDB\n",
    "client = pymongo.MongoClient(\"mongodb://localhost:27017/\")\n",
    "db = client[\"customersdb\"]\n",
    "customers = db[\"customers\"]\n",
    "customers_list = [\n",
    "  { \"name\": \"Amy\", \"address\": \"Apple st 652\"},\n",
    "  { \"name\": \"Hannah\", \"address\": \"Mountain 21\"},\n",
    "  { \"name\": \"Michael\", \"address\": \"Valley 345\"},\n",
    "  { \"name\": \"Sandy\", \"address\": \"Ocean blvd 2\"},\n",
    "  { \"name\": \"Betty\", \"address\": \"Green Grass 1\"},\n",
    "  { \"name\": \"Richard\", \"address\": \"Sky st 331\"},\n",
    "  { \"name\": \"Susan\", \"address\": \"One way 98\"},\n",
    "  { \"name\": \"Vicky\", \"address\": \"Yellow Garden 2\"},\n",
    "  { \"name\": \"Ben\", \"address\": \"Park Lane 38\"},\n",
    "  { \"name\": \"William\", \"address\": \"Central st 954\"},\n",
    "  { \"name\": \"Chuck\", \"address\": \"Main Road 989\"},\n",
    "  { \"name\": \"Viola\", \"address\": \"Sideway 1633\"}\n",
    "]\n",
    "x = customers.insert_many(customers_list)\n",
    "# print list of the _id values of the inserted documents:\n",
    "print(x.inserted_ids)"
   ]
  },
  {
   "cell_type": "code",
   "execution_count": 32,
   "id": "e27ba6b5",
   "metadata": {},
   "outputs": [
    {
     "name": "stdout",
     "output_type": "stream",
     "text": [
      "{'_id': ObjectId('6118d8478eff78edf6f965b8'), 'customer_complaint_narrative': 'I am having mortgage issue', 'label': 'Mortgage'}\n"
     ]
    }
   ],
   "source": [
    "import pymongo\n",
    "client = pymongo.MongoClient(\"mongodb://localhost:27017/\")\n",
    "db = client[\"complaintsdb\"]\n",
    "customers = db[\"complaints\"]\n",
    "for x in customers.find():\n",
    "    print(x)"
   ]
  },
  {
   "cell_type": "code",
   "execution_count": 31,
   "id": "8bcaa6b1",
   "metadata": {},
   "outputs": [
    {
     "name": "stdout",
     "output_type": "stream",
     "text": [
      "{'_id': ObjectId('6118a5395b253c79167ba4c1'), 'name': 'Amy', 'address': 'Apple st 652'}\n",
      "{'_id': ObjectId('6118a5395b253c79167ba4c2'), 'name': 'Hannah', 'address': 'Mountain 21'}\n",
      "{'_id': ObjectId('6118a5395b253c79167ba4c3'), 'name': 'Michael', 'address': 'Valley 345'}\n",
      "{'_id': ObjectId('6118a5395b253c79167ba4c4'), 'name': 'Sandy', 'address': 'Ocean blvd 2'}\n",
      "{'_id': ObjectId('6118a5395b253c79167ba4c5'), 'name': 'Betty', 'address': 'Green Grass 1'}\n",
      "{'_id': ObjectId('6118a5395b253c79167ba4c6'), 'name': 'Richard', 'address': 'Sky st 331'}\n",
      "{'_id': ObjectId('6118a5395b253c79167ba4c7'), 'name': 'Susan', 'address': 'One way 98'}\n",
      "{'_id': ObjectId('6118a5395b253c79167ba4c8'), 'name': 'Vicky', 'address': 'Yellow Garden 2'}\n",
      "{'_id': ObjectId('6118a5395b253c79167ba4c9'), 'name': 'Ben', 'address': 'Park Lane 38'}\n",
      "{'_id': ObjectId('6118a5395b253c79167ba4ca'), 'name': 'William', 'address': 'Central st 954'}\n",
      "{'_id': ObjectId('6118a5395b253c79167ba4cb'), 'name': 'Chuck', 'address': 'Main Road 989'}\n",
      "{'_id': ObjectId('6118a5395b253c79167ba4cc'), 'name': 'Viola', 'address': 'Sideway 1633'}\n",
      "{'_id': ObjectId('6118d7a95b253c79167ba4cf'), 'name': 'hari', 'address': '79898'}\n"
     ]
    }
   ],
   "source": [
    "import pymongo\n",
    "client = pymongo.MongoClient(\"mongodb://localhost:27017/\")\n",
    "db = client[\"customersdb\"]\n",
    "customers = db[\"customers\"]\n",
    "for x in customers.find():\n",
    "    print(x)"
   ]
  },
  {
   "cell_type": "code",
   "execution_count": 5,
   "id": "f06d5e69",
   "metadata": {},
   "outputs": [
    {
     "data": {
      "text/plain": [
       "Collection(Database(MongoClient(host=['localhost:27017'], document_class=dict, tz_aware=False, connect=True), 'customersdb'), 'customers.name')"
      ]
     },
     "execution_count": 5,
     "metadata": {},
     "output_type": "execute_result"
    }
   ],
   "source": [
    "customers['name']"
   ]
  },
  {
   "cell_type": "code",
   "execution_count": 4,
   "id": "ef171b89",
   "metadata": {},
   "outputs": [
    {
     "name": "stdout",
     "output_type": "stream",
     "text": [
      "Collecting streamlit\n",
      "  Downloading streamlit-0.86.0-py2.py3-none-any.whl (8.0 MB)\n",
      "Collecting blinker\n",
      "  Using cached blinker-1.4.tar.gz (111 kB)\n",
      "Collecting pyarrow\n",
      "  Downloading pyarrow-5.0.0-cp39-cp39-win_amd64.whl (14.5 MB)\n",
      "Collecting gitpython!=3.1.19\n",
      "  Downloading GitPython-3.1.18-py3-none-any.whl (170 kB)\n",
      "Requirement already satisfied: requests in c:\\users\\srihari_mohan\\anaconda3\\envs\\keywordclassify\\lib\\site-packages (from streamlit) (2.26.0)\n",
      "Requirement already satisfied: attrs in c:\\users\\srihari_mohan\\anaconda3\\envs\\keywordclassify\\lib\\site-packages (from streamlit) (21.2.0)\n",
      "Requirement already satisfied: tornado>=5.0 in c:\\users\\srihari_mohan\\anaconda3\\envs\\keywordclassify\\lib\\site-packages (from streamlit) (6.1)\n",
      "Requirement already satisfied: python-dateutil in c:\\users\\srihari_mohan\\anaconda3\\envs\\keywordclassify\\lib\\site-packages (from streamlit) (2.8.2)\n",
      "Collecting validators\n",
      "  Using cached validators-0.18.2-py3-none-any.whl (19 kB)\n",
      "Collecting watchdog\n",
      "  Downloading watchdog-2.1.3-py3-none-win_amd64.whl (75 kB)\n",
      "Requirement already satisfied: protobuf!=3.11,>=3.6.0 in c:\\users\\srihari_mohan\\anaconda3\\envs\\keywordclassify\\lib\\site-packages (from streamlit) (3.17.3)\n",
      "Requirement already satisfied: cachetools>=4.0 in c:\\users\\srihari_mohan\\anaconda3\\envs\\keywordclassify\\lib\\site-packages (from streamlit) (4.2.2)\n",
      "Collecting base58\n",
      "  Using cached base58-2.1.0-py3-none-any.whl (5.6 kB)\n",
      "Collecting astor\n",
      "  Using cached astor-0.8.1-py2.py3-none-any.whl (27 kB)\n",
      "Collecting pillow>=6.2.0\n",
      "  Using cached Pillow-8.3.1-1-cp39-cp39-win_amd64.whl (3.2 MB)\n",
      "Collecting pydeck>=0.1.dev5\n",
      "  Using cached pydeck-0.6.2-py2.py3-none-any.whl (4.2 MB)\n",
      "Requirement already satisfied: click<8.0,>=7.0 in c:\\users\\srihari_mohan\\anaconda3\\envs\\keywordclassify\\lib\\site-packages (from streamlit) (7.1.2)\n",
      "Collecting toml\n",
      "  Using cached toml-0.10.2-py2.py3-none-any.whl (16 kB)\n",
      "Requirement already satisfied: pandas>=0.21.0 in c:\\users\\srihari_mohan\\anaconda3\\envs\\keywordclassify\\lib\\site-packages (from streamlit) (1.3.1)\n",
      "Collecting tzlocal\n",
      "  Downloading tzlocal-3.0-py3-none-any.whl (16 kB)\n",
      "Requirement already satisfied: packaging in c:\\users\\srihari_mohan\\anaconda3\\envs\\keywordclassify\\lib\\site-packages (from streamlit) (21.0)\n",
      "Collecting altair>=3.2.0\n",
      "  Using cached altair-4.1.0-py3-none-any.whl (727 kB)\n",
      "Requirement already satisfied: numpy in c:\\users\\srihari_mohan\\anaconda3\\envs\\keywordclassify\\lib\\site-packages (from streamlit) (1.19.5)\n",
      "Requirement already satisfied: jsonschema in c:\\users\\srihari_mohan\\anaconda3\\envs\\keywordclassify\\lib\\site-packages (from altair>=3.2.0->streamlit) (3.2.0)\n",
      "Requirement already satisfied: entrypoints in c:\\users\\srihari_mohan\\anaconda3\\envs\\keywordclassify\\lib\\site-packages (from altair>=3.2.0->streamlit) (0.3)\n",
      "Collecting toolz\n",
      "  Using cached toolz-0.11.1-py3-none-any.whl (55 kB)\n",
      "Requirement already satisfied: jinja2 in c:\\users\\srihari_mohan\\anaconda3\\envs\\keywordclassify\\lib\\site-packages (from altair>=3.2.0->streamlit) (3.0.1)\n",
      "Collecting gitdb<5,>=4.0.1\n",
      "  Using cached gitdb-4.0.7-py3-none-any.whl (63 kB)\n",
      "Collecting smmap<5,>=3.0.1\n",
      "  Using cached smmap-4.0.0-py2.py3-none-any.whl (24 kB)\n",
      "Requirement already satisfied: pytz>=2017.3 in c:\\users\\srihari_mohan\\anaconda3\\envs\\keywordclassify\\lib\\site-packages (from pandas>=0.21.0->streamlit) (2021.1)\n",
      "Requirement already satisfied: six>=1.9 in c:\\users\\srihari_mohan\\anaconda3\\envs\\keywordclassify\\lib\\site-packages (from protobuf!=3.11,>=3.6.0->streamlit) (1.15.0)\n",
      "Requirement already satisfied: ipykernel>=5.1.2 in c:\\users\\srihari_mohan\\anaconda3\\envs\\keywordclassify\\lib\\site-packages (from pydeck>=0.1.dev5->streamlit) (6.1.0)\n",
      "Requirement already satisfied: traitlets>=4.3.2 in c:\\users\\srihari_mohan\\anaconda3\\envs\\keywordclassify\\lib\\site-packages (from pydeck>=0.1.dev5->streamlit) (5.0.5)\n",
      "Requirement already satisfied: ipywidgets>=7.0.0 in c:\\users\\srihari_mohan\\anaconda3\\envs\\keywordclassify\\lib\\site-packages (from pydeck>=0.1.dev5->streamlit) (7.6.3)\n",
      "Requirement already satisfied: matplotlib-inline<0.2.0,>=0.1.0 in c:\\users\\srihari_mohan\\anaconda3\\envs\\keywordclassify\\lib\\site-packages (from ipykernel>=5.1.2->pydeck>=0.1.dev5->streamlit) (0.1.2)\n",
      "Requirement already satisfied: ipython<8.0,>=7.23.1 in c:\\users\\srihari_mohan\\anaconda3\\envs\\keywordclassify\\lib\\site-packages (from ipykernel>=5.1.2->pydeck>=0.1.dev5->streamlit) (7.26.0)\n",
      "Requirement already satisfied: debugpy<2.0,>=1.0.0 in c:\\users\\srihari_mohan\\anaconda3\\envs\\keywordclassify\\lib\\site-packages (from ipykernel>=5.1.2->pydeck>=0.1.dev5->streamlit) (1.4.1)\n",
      "Requirement already satisfied: jupyter-client<7.0 in c:\\users\\srihari_mohan\\anaconda3\\envs\\keywordclassify\\lib\\site-packages (from ipykernel>=5.1.2->pydeck>=0.1.dev5->streamlit) (6.1.7)\n",
      "Requirement already satisfied: jedi>=0.16 in c:\\users\\srihari_mohan\\anaconda3\\envs\\keywordclassify\\lib\\site-packages (from ipython<8.0,>=7.23.1->ipykernel>=5.1.2->pydeck>=0.1.dev5->streamlit) (0.18.0)\n",
      "Requirement already satisfied: colorama in c:\\users\\srihari_mohan\\anaconda3\\envs\\keywordclassify\\lib\\site-packages (from ipython<8.0,>=7.23.1->ipykernel>=5.1.2->pydeck>=0.1.dev5->streamlit) (0.4.4)\n",
      "Requirement already satisfied: pygments in c:\\users\\srihari_mohan\\anaconda3\\envs\\keywordclassify\\lib\\site-packages (from ipython<8.0,>=7.23.1->ipykernel>=5.1.2->pydeck>=0.1.dev5->streamlit) (2.7.1)\n",
      "Requirement already satisfied: backcall in c:\\users\\srihari_mohan\\anaconda3\\envs\\keywordclassify\\lib\\site-packages (from ipython<8.0,>=7.23.1->ipykernel>=5.1.2->pydeck>=0.1.dev5->streamlit) (0.2.0)\n",
      "Requirement already satisfied: prompt-toolkit!=3.0.0,!=3.0.1,<3.1.0,>=2.0.0 in c:\\users\\srihari_mohan\\anaconda3\\envs\\keywordclassify\\lib\\site-packages (from ipython<8.0,>=7.23.1->ipykernel>=5.1.2->pydeck>=0.1.dev5->streamlit) (3.0.8)\n",
      "Requirement already satisfied: decorator in c:\\users\\srihari_mohan\\anaconda3\\envs\\keywordclassify\\lib\\site-packages (from ipython<8.0,>=7.23.1->ipykernel>=5.1.2->pydeck>=0.1.dev5->streamlit) (4.4.2)\n",
      "Requirement already satisfied: pickleshare in c:\\users\\srihari_mohan\\anaconda3\\envs\\keywordclassify\\lib\\site-packages (from ipython<8.0,>=7.23.1->ipykernel>=5.1.2->pydeck>=0.1.dev5->streamlit) (0.7.5)\n",
      "Requirement already satisfied: setuptools>=18.5 in c:\\users\\srihari_mohan\\anaconda3\\envs\\keywordclassify\\lib\\site-packages (from ipython<8.0,>=7.23.1->ipykernel>=5.1.2->pydeck>=0.1.dev5->streamlit) (49.6.0.post20210108)\n",
      "Requirement already satisfied: widgetsnbextension~=3.5.0 in c:\\users\\srihari_mohan\\anaconda3\\envs\\keywordclassify\\lib\\site-packages (from ipywidgets>=7.0.0->pydeck>=0.1.dev5->streamlit) (3.5.1)\n",
      "Requirement already satisfied: nbformat>=4.2.0 in c:\\users\\srihari_mohan\\anaconda3\\envs\\keywordclassify\\lib\\site-packages (from ipywidgets>=7.0.0->pydeck>=0.1.dev5->streamlit) (5.1.3)\n",
      "Requirement already satisfied: jupyterlab-widgets>=1.0.0 in c:\\users\\srihari_mohan\\anaconda3\\envs\\keywordclassify\\lib\\site-packages (from ipywidgets>=7.0.0->pydeck>=0.1.dev5->streamlit) (1.0.0)\n",
      "Requirement already satisfied: parso<0.9.0,>=0.8.0 in c:\\users\\srihari_mohan\\anaconda3\\envs\\keywordclassify\\lib\\site-packages (from jedi>=0.16->ipython<8.0,>=7.23.1->ipykernel>=5.1.2->pydeck>=0.1.dev5->streamlit) (0.8.0)\n",
      "Requirement already satisfied: MarkupSafe>=2.0 in c:\\users\\srihari_mohan\\anaconda3\\envs\\keywordclassify\\lib\\site-packages (from jinja2->altair>=3.2.0->streamlit) (2.0.1)\n",
      "Requirement already satisfied: jupyter-core>=4.6.0 in c:\\users\\srihari_mohan\\anaconda3\\envs\\keywordclassify\\lib\\site-packages (from jupyter-client<7.0->ipykernel>=5.1.2->pydeck>=0.1.dev5->streamlit) (4.7.1)\n",
      "Requirement already satisfied: pyzmq>=13 in c:\\users\\srihari_mohan\\anaconda3\\envs\\keywordclassify\\lib\\site-packages (from jupyter-client<7.0->ipykernel>=5.1.2->pydeck>=0.1.dev5->streamlit) (22.2.1)\n",
      "Requirement already satisfied: pywin32>=1.0 in c:\\users\\srihari_mohan\\anaconda3\\envs\\keywordclassify\\lib\\site-packages (from jupyter-core>=4.6.0->jupyter-client<7.0->ipykernel>=5.1.2->pydeck>=0.1.dev5->streamlit) (301)\n",
      "Requirement already satisfied: ipython-genutils in c:\\users\\srihari_mohan\\anaconda3\\envs\\keywordclassify\\lib\\site-packages (from nbformat>=4.2.0->ipywidgets>=7.0.0->pydeck>=0.1.dev5->streamlit) (0.2.0)\n",
      "Requirement already satisfied: pyrsistent>=0.14.0 in c:\\users\\srihari_mohan\\anaconda3\\envs\\keywordclassify\\lib\\site-packages (from jsonschema->altair>=3.2.0->streamlit) (0.18.0)\n",
      "Requirement already satisfied: wcwidth in c:\\users\\srihari_mohan\\anaconda3\\envs\\keywordclassify\\lib\\site-packages (from prompt-toolkit!=3.0.0,!=3.0.1,<3.1.0,>=2.0.0->ipython<8.0,>=7.23.1->ipykernel>=5.1.2->pydeck>=0.1.dev5->streamlit) (0.2.5)\n",
      "Requirement already satisfied: notebook>=4.4.1 in c:\\users\\srihari_mohan\\anaconda3\\envs\\keywordclassify\\lib\\site-packages (from widgetsnbextension~=3.5.0->ipywidgets>=7.0.0->pydeck>=0.1.dev5->streamlit) (6.4.3)\n",
      "Requirement already satisfied: nbconvert in c:\\users\\srihari_mohan\\anaconda3\\envs\\keywordclassify\\lib\\site-packages (from notebook>=4.4.1->widgetsnbextension~=3.5.0->ipywidgets>=7.0.0->pydeck>=0.1.dev5->streamlit) (6.1.0)\n",
      "Requirement already satisfied: prometheus-client in c:\\users\\srihari_mohan\\anaconda3\\envs\\keywordclassify\\lib\\site-packages (from notebook>=4.4.1->widgetsnbextension~=3.5.0->ipywidgets>=7.0.0->pydeck>=0.1.dev5->streamlit) (0.11.0)\n",
      "Requirement already satisfied: argon2-cffi in c:\\users\\srihari_mohan\\anaconda3\\envs\\keywordclassify\\lib\\site-packages (from notebook>=4.4.1->widgetsnbextension~=3.5.0->ipywidgets>=7.0.0->pydeck>=0.1.dev5->streamlit) (20.1.0)\n",
      "Requirement already satisfied: Send2Trash>=1.5.0 in c:\\users\\srihari_mohan\\anaconda3\\envs\\keywordclassify\\lib\\site-packages (from notebook>=4.4.1->widgetsnbextension~=3.5.0->ipywidgets>=7.0.0->pydeck>=0.1.dev5->streamlit) (1.8.0)\n",
      "Requirement already satisfied: terminado>=0.8.3 in c:\\users\\srihari_mohan\\anaconda3\\envs\\keywordclassify\\lib\\site-packages (from notebook>=4.4.1->widgetsnbextension~=3.5.0->ipywidgets>=7.0.0->pydeck>=0.1.dev5->streamlit) (0.11.0)\n",
      "Requirement already satisfied: pywinpty>=1.1.0 in c:\\users\\srihari_mohan\\anaconda3\\envs\\keywordclassify\\lib\\site-packages (from terminado>=0.8.3->notebook>=4.4.1->widgetsnbextension~=3.5.0->ipywidgets>=7.0.0->pydeck>=0.1.dev5->streamlit) (1.1.3)\n",
      "Requirement already satisfied: cffi>=1.0.0 in c:\\users\\srihari_mohan\\anaconda3\\envs\\keywordclassify\\lib\\site-packages (from argon2-cffi->notebook>=4.4.1->widgetsnbextension~=3.5.0->ipywidgets>=7.0.0->pydeck>=0.1.dev5->streamlit) (1.14.6)\n",
      "Requirement already satisfied: pycparser in c:\\users\\srihari_mohan\\anaconda3\\envs\\keywordclassify\\lib\\site-packages (from cffi>=1.0.0->argon2-cffi->notebook>=4.4.1->widgetsnbextension~=3.5.0->ipywidgets>=7.0.0->pydeck>=0.1.dev5->streamlit) (2.20)\n",
      "Requirement already satisfied: bleach in c:\\users\\srihari_mohan\\anaconda3\\envs\\keywordclassify\\lib\\site-packages (from nbconvert->notebook>=4.4.1->widgetsnbextension~=3.5.0->ipywidgets>=7.0.0->pydeck>=0.1.dev5->streamlit) (4.0.0)\n",
      "Requirement already satisfied: mistune<2,>=0.8.1 in c:\\users\\srihari_mohan\\anaconda3\\envs\\keywordclassify\\lib\\site-packages (from nbconvert->notebook>=4.4.1->widgetsnbextension~=3.5.0->ipywidgets>=7.0.0->pydeck>=0.1.dev5->streamlit) (0.8.4)\n",
      "Requirement already satisfied: pandocfilters>=1.4.1 in c:\\users\\srihari_mohan\\anaconda3\\envs\\keywordclassify\\lib\\site-packages (from nbconvert->notebook>=4.4.1->widgetsnbextension~=3.5.0->ipywidgets>=7.0.0->pydeck>=0.1.dev5->streamlit) (1.4.3)\n",
      "Requirement already satisfied: jupyterlab-pygments in c:\\users\\srihari_mohan\\anaconda3\\envs\\keywordclassify\\lib\\site-packages (from nbconvert->notebook>=4.4.1->widgetsnbextension~=3.5.0->ipywidgets>=7.0.0->pydeck>=0.1.dev5->streamlit) (0.1.2)\n",
      "Requirement already satisfied: nbclient<0.6.0,>=0.5.0 in c:\\users\\srihari_mohan\\anaconda3\\envs\\keywordclassify\\lib\\site-packages (from nbconvert->notebook>=4.4.1->widgetsnbextension~=3.5.0->ipywidgets>=7.0.0->pydeck>=0.1.dev5->streamlit) (0.5.3)\n",
      "Requirement already satisfied: defusedxml in c:\\users\\srihari_mohan\\anaconda3\\envs\\keywordclassify\\lib\\site-packages (from nbconvert->notebook>=4.4.1->widgetsnbextension~=3.5.0->ipywidgets>=7.0.0->pydeck>=0.1.dev5->streamlit) (0.7.1)\n",
      "Requirement already satisfied: testpath in c:\\users\\srihari_mohan\\anaconda3\\envs\\keywordclassify\\lib\\site-packages (from nbconvert->notebook>=4.4.1->widgetsnbextension~=3.5.0->ipywidgets>=7.0.0->pydeck>=0.1.dev5->streamlit) (0.5.0)\n",
      "Requirement already satisfied: async-generator in c:\\users\\srihari_mohan\\anaconda3\\envs\\keywordclassify\\lib\\site-packages (from nbclient<0.6.0,>=0.5.0->nbconvert->notebook>=4.4.1->widgetsnbextension~=3.5.0->ipywidgets>=7.0.0->pydeck>=0.1.dev5->streamlit) (1.10)\n",
      "Requirement already satisfied: nest-asyncio in c:\\users\\srihari_mohan\\anaconda3\\envs\\keywordclassify\\lib\\site-packages (from nbclient<0.6.0,>=0.5.0->nbconvert->notebook>=4.4.1->widgetsnbextension~=3.5.0->ipywidgets>=7.0.0->pydeck>=0.1.dev5->streamlit) (1.5.1)\n",
      "Requirement already satisfied: webencodings in c:\\users\\srihari_mohan\\anaconda3\\envs\\keywordclassify\\lib\\site-packages (from bleach->nbconvert->notebook>=4.4.1->widgetsnbextension~=3.5.0->ipywidgets>=7.0.0->pydeck>=0.1.dev5->streamlit) (0.5.1)\n",
      "Requirement already satisfied: pyparsing>=2.0.2 in c:\\users\\srihari_mohan\\anaconda3\\envs\\keywordclassify\\lib\\site-packages (from packaging->streamlit) (2.4.7)\n",
      "Requirement already satisfied: urllib3<1.27,>=1.21.1 in c:\\users\\srihari_mohan\\anaconda3\\envs\\keywordclassify\\lib\\site-packages (from requests->streamlit) (1.26.6)\n",
      "Requirement already satisfied: charset-normalizer~=2.0.0 in c:\\users\\srihari_mohan\\anaconda3\\envs\\keywordclassify\\lib\\site-packages (from requests->streamlit) (2.0.4)\n",
      "Requirement already satisfied: idna<4,>=2.5 in c:\\users\\srihari_mohan\\anaconda3\\envs\\keywordclassify\\lib\\site-packages (from requests->streamlit) (3.2)\n",
      "Requirement already satisfied: certifi>=2017.4.17 in c:\\users\\srihari_mohan\\anaconda3\\envs\\keywordclassify\\lib\\site-packages (from requests->streamlit) (2021.5.30)\n",
      "Collecting tzdata\n",
      "  Downloading tzdata-2021.1-py2.py3-none-any.whl (338 kB)\n",
      "Building wheels for collected packages: blinker\n",
      "  Building wheel for blinker (setup.py): started\n",
      "  Building wheel for blinker (setup.py): finished with status 'done'\n",
      "  Created wheel for blinker: filename=blinker-1.4-py3-none-any.whl size=13451 sha256=26c8d40245b9215ca81d9a7bfea51bbbefa8178f465cc38ec58e09b679890ba7\n",
      "  Stored in directory: c:\\users\\srihari_mohan\\appdata\\local\\pip\\cache\\wheels\\50\\93\\f8\\4f0a42a03a06626d675f13907b6982ad5ecff383530af5a900\n",
      "Successfully built blinker\n",
      "Installing collected packages: smmap, tzdata, toolz, gitdb, watchdog, validators, tzlocal, toml, pydeck, pyarrow, pillow, gitpython, blinker, base58, astor, altair, streamlit\n",
      "Successfully installed altair-4.1.0 astor-0.8.1 base58-2.1.0 blinker-1.4 gitdb-4.0.7 gitpython-3.1.18 pillow-8.3.1 pyarrow-5.0.0 pydeck-0.6.2 smmap-4.0.0 streamlit-0.86.0 toml-0.10.2 toolz-0.11.1 tzdata-2021.1 tzlocal-3.0 validators-0.18.2 watchdog-2.1.3\n"
     ]
    }
   ],
   "source": [
    "!pip install streamlit"
   ]
  },
  {
   "cell_type": "code",
   "execution_count": 37,
   "id": "0d3c1a86",
   "metadata": {},
   "outputs": [],
   "source": [
    "def get_data():\n",
    "    db = client['customersdb']\n",
    "    customers = db[\"customers\"]\n",
    "    return customers\n",
    "    items = customers.find()\n",
    "    return items\n",
    "    items = list(items)  # make hashable for st.cache\n",
    "    return items\n",
    "\n",
    "items = get_data()"
   ]
  },
  {
   "cell_type": "code",
   "execution_count": 38,
   "id": "279c8c34",
   "metadata": {},
   "outputs": [
    {
     "data": {
      "text/plain": [
       "Collection(Database(MongoClient(host=['localhost:27017'], document_class=dict, tz_aware=False, connect=True), 'customersdb'), 'customers.0')"
      ]
     },
     "execution_count": 38,
     "metadata": {},
     "output_type": "execute_result"
    }
   ],
   "source": [
    "items[0]"
   ]
  },
  {
   "cell_type": "code",
   "execution_count": 44,
   "id": "d7765294",
   "metadata": {},
   "outputs": [],
   "source": [
    "f = items.find({\"name\":\"Amy\"})"
   ]
  },
  {
   "cell_type": "code",
   "execution_count": 45,
   "id": "0f698586",
   "metadata": {},
   "outputs": [
    {
     "name": "stdout",
     "output_type": "stream",
     "text": [
      "Amy Apple st 652\n"
     ]
    }
   ],
   "source": [
    "for ff in f:\n",
    "    print(ff['name'], ff['address'])"
   ]
  },
  {
   "cell_type": "code",
   "execution_count": 33,
   "id": "215fe37d",
   "metadata": {},
   "outputs": [
    {
     "data": {
      "text/plain": [
       "[{'_id': ObjectId('6118a5395b253c79167ba4c1'),\n",
       "  'name': 'Amy',\n",
       "  'address': 'Apple st 652'},\n",
       " {'_id': ObjectId('6118a5395b253c79167ba4c2'),\n",
       "  'name': 'Hannah',\n",
       "  'address': 'Mountain 21'},\n",
       " {'_id': ObjectId('6118a5395b253c79167ba4c3'),\n",
       "  'name': 'Michael',\n",
       "  'address': 'Valley 345'},\n",
       " {'_id': ObjectId('6118a5395b253c79167ba4c4'),\n",
       "  'name': 'Sandy',\n",
       "  'address': 'Ocean blvd 2'},\n",
       " {'_id': ObjectId('6118a5395b253c79167ba4c5'),\n",
       "  'name': 'Betty',\n",
       "  'address': 'Green Grass 1'},\n",
       " {'_id': ObjectId('6118a5395b253c79167ba4c6'),\n",
       "  'name': 'Richard',\n",
       "  'address': 'Sky st 331'},\n",
       " {'_id': ObjectId('6118a5395b253c79167ba4c7'),\n",
       "  'name': 'Susan',\n",
       "  'address': 'One way 98'},\n",
       " {'_id': ObjectId('6118a5395b253c79167ba4c8'),\n",
       "  'name': 'Vicky',\n",
       "  'address': 'Yellow Garden 2'},\n",
       " {'_id': ObjectId('6118a5395b253c79167ba4c9'),\n",
       "  'name': 'Ben',\n",
       "  'address': 'Park Lane 38'},\n",
       " {'_id': ObjectId('6118a5395b253c79167ba4ca'),\n",
       "  'name': 'William',\n",
       "  'address': 'Central st 954'},\n",
       " {'_id': ObjectId('6118a5395b253c79167ba4cb'),\n",
       "  'name': 'Chuck',\n",
       "  'address': 'Main Road 989'},\n",
       " {'_id': ObjectId('6118a5395b253c79167ba4cc'),\n",
       "  'name': 'Viola',\n",
       "  'address': 'Sideway 1633'}]"
      ]
     },
     "execution_count": 33,
     "metadata": {},
     "output_type": "execute_result"
    }
   ],
   "source": [
    "items.find_one()"
   ]
  },
  {
   "cell_type": "code",
   "execution_count": 15,
   "id": "e9f62872",
   "metadata": {},
   "outputs": [
    {
     "ename": "TypeError",
     "evalue": "'Collection' object is not iterable",
     "output_type": "error",
     "traceback": [
      "\u001b[1;31m---------------------------------------------------------------------------\u001b[0m",
      "\u001b[1;31mTypeError\u001b[0m                                 Traceback (most recent call last)",
      "\u001b[1;32mC:\\Users\\SRIHAR~1\\AppData\\Local\\Temp/ipykernel_21932/2832642372.py\u001b[0m in \u001b[0;36m<module>\u001b[1;34m\u001b[0m\n\u001b[1;32m----> 1\u001b[1;33m \u001b[1;32mfor\u001b[0m \u001b[0mname\u001b[0m \u001b[1;32min\u001b[0m \u001b[0mitems\u001b[0m\u001b[1;33m[\u001b[0m\u001b[1;34m'name'\u001b[0m\u001b[1;33m]\u001b[0m\u001b[1;33m:\u001b[0m\u001b[1;33m\u001b[0m\u001b[1;33m\u001b[0m\u001b[0m\n\u001b[0m\u001b[0;32m      2\u001b[0m     \u001b[0mprint\u001b[0m\u001b[1;33m(\u001b[0m\u001b[0mname\u001b[0m\u001b[1;33m)\u001b[0m\u001b[1;33m\u001b[0m\u001b[1;33m\u001b[0m\u001b[0m\n",
      "\u001b[1;32m~\\Anaconda3\\envs\\keywordclassify\\lib\\site-packages\\pymongo\\collection.py\u001b[0m in \u001b[0;36m__next__\u001b[1;34m(self)\u001b[0m\n\u001b[0;32m   3470\u001b[0m \u001b[1;33m\u001b[0m\u001b[0m\n\u001b[0;32m   3471\u001b[0m     \u001b[1;32mdef\u001b[0m \u001b[0m__next__\u001b[0m\u001b[1;33m(\u001b[0m\u001b[0mself\u001b[0m\u001b[1;33m)\u001b[0m\u001b[1;33m:\u001b[0m\u001b[1;33m\u001b[0m\u001b[1;33m\u001b[0m\u001b[0m\n\u001b[1;32m-> 3472\u001b[1;33m         \u001b[1;32mraise\u001b[0m \u001b[0mTypeError\u001b[0m\u001b[1;33m(\u001b[0m\u001b[1;34m\"'Collection' object is not iterable\"\u001b[0m\u001b[1;33m)\u001b[0m\u001b[1;33m\u001b[0m\u001b[1;33m\u001b[0m\u001b[0m\n\u001b[0m\u001b[0;32m   3473\u001b[0m \u001b[1;33m\u001b[0m\u001b[0m\n\u001b[0;32m   3474\u001b[0m     \u001b[0mnext\u001b[0m \u001b[1;33m=\u001b[0m \u001b[0m__next__\u001b[0m\u001b[1;33m\u001b[0m\u001b[1;33m\u001b[0m\u001b[0m\n",
      "\u001b[1;31mTypeError\u001b[0m: 'Collection' object is not iterable"
     ]
    }
   ],
   "source": [
    "for name in items['name']:\n",
    "    print(name)"
   ]
  },
  {
   "cell_type": "code",
   "execution_count": 46,
   "id": "46a4e11d",
   "metadata": {},
   "outputs": [],
   "source": [
    "import pymongo\n",
    "\n",
    "def establish_connection():\n",
    "    client = pymongo.MongoClient(\"mongodb://localhost:27017/\")\n",
    "    db = client[\"complaintsdb\"]\n",
    "    complaints = db[\"complaints\"]\n",
    "    return complaints"
   ]
  },
  {
   "cell_type": "code",
   "execution_count": 47,
   "id": "f5303b4d",
   "metadata": {},
   "outputs": [],
   "source": [
    "complaints = establish_connection()"
   ]
  },
  {
   "cell_type": "code",
   "execution_count": null,
   "id": "976adc23",
   "metadata": {},
   "outputs": [],
   "source": []
  },
  {
   "cell_type": "code",
   "execution_count": 51,
   "id": "f3f41418",
   "metadata": {},
   "outputs": [
    {
     "name": "stdout",
     "output_type": "stream",
     "text": [
      "{'_id': ObjectId('6118d8478eff78edf6f965b8'), 'customer_complaint_narrative': 'I am having mortgage issue', 'label': 'Mortgage'}\n"
     ]
    }
   ],
   "source": [
    "cursor = complaints.find({\"label\":\"Mortgage\"})\n",
    "for c in cursor:\n",
    "    print(c)"
   ]
  },
  {
   "cell_type": "code",
   "execution_count": 59,
   "id": "2c8f1190",
   "metadata": {},
   "outputs": [],
   "source": [
    "cursor = complaints.find({\"label\":\"Mortgage\"})"
   ]
  },
  {
   "cell_type": "code",
   "execution_count": 56,
   "id": "b43fc5d4",
   "metadata": {},
   "outputs": [],
   "source": [
    "for i,c in enumerate(cursor):\n",
    "    print(c)\n",
    "    print(i)"
   ]
  },
  {
   "cell_type": "code",
   "execution_count": 60,
   "id": "04e5dd8b",
   "metadata": {},
   "outputs": [
    {
     "data": {
      "text/plain": [
       "[{'_id': ObjectId('6118d8478eff78edf6f965b8'),\n",
       "  'customer_complaint_narrative': 'I am having mortgage issue',\n",
       "  'label': 'Mortgage'}]"
      ]
     },
     "execution_count": 60,
     "metadata": {},
     "output_type": "execute_result"
    }
   ],
   "source": [
    "list(cursor)"
   ]
  },
  {
   "cell_type": "code",
   "execution_count": 91,
   "id": "d897e9de",
   "metadata": {},
   "outputs": [
    {
     "name": "stdout",
     "output_type": "stream",
     "text": [
      "{'_id': ObjectId('61190f3c2154ec94a18b326f'), 'customer_complaint_narrative': 'I am having mortgage issue', 'label': 'Other financial service'}\n",
      "{'_id': ObjectId('61190fd6f2223dfb1d2337ea'), 'customer_complaint_narrative': 'I am having mortgage issue', 'label': 'Debt collection'}\n",
      "{'_id': ObjectId('61190fd6f2223dfb1d2337eb'), 'customer_complaint_narrative': 'Mortgage issue', 'label': 'Other financial service'}\n",
      "{'_id': ObjectId('6119100ff2223dfb1d2337f3'), 'customer_complaint_narrative': 'credit card', 'label': 'Debt collection'}\n"
     ]
    }
   ],
   "source": [
    "import pymongo\n",
    "client = pymongo.MongoClient(\"mongodb://localhost:27017/\")\n",
    "db = client[\"complaintsdb\"]\n",
    "customers = db[\"feedbacks\"]\n",
    "for x in customers.find():\n",
    "    print(x)"
   ]
  },
  {
   "cell_type": "code",
   "execution_count": 86,
   "id": "5a4f582e",
   "metadata": {},
   "outputs": [
    {
     "data": {
      "text/plain": [
       "<pymongo.results.DeleteResult at 0x1eac868be80>"
      ]
     },
     "execution_count": 86,
     "metadata": {},
     "output_type": "execute_result"
    }
   ],
   "source": [
    "customers.delete_many({\"customer_complaint_narrative\":'I am having mortgage issue'})"
   ]
  },
  {
   "cell_type": "code",
   "execution_count": 78,
   "id": "eb1b05dd",
   "metadata": {},
   "outputs": [],
   "source": [
    "data = [{'customer_complaint_narrative': 'I am having mortgage issue', 'label': 'Other financial service'}]"
   ]
  },
  {
   "cell_type": "code",
   "execution_count": 79,
   "id": "e1e4b8be",
   "metadata": {},
   "outputs": [],
   "source": [
    "import pymongo\n",
    "\n",
    "def establish_connection(record_name):\n",
    "    client = pymongo.MongoClient(\"mongodb://localhost:27017/\")\n",
    "    db = client[\"complaintsdb\"]\n",
    "    complaints = db[record_name]\n",
    "    return complaints\n",
    "def insert_key_value_many(dict_data, record_name):\n",
    "    complaints = establish_connection(record_name)\n",
    "    return complaints\n",
    "    complaints.insert_many(dict_data, record_name)\n",
    "    return \"success\""
   ]
  },
  {
   "cell_type": "code",
   "execution_count": 76,
   "id": "61b7f67f",
   "metadata": {},
   "outputs": [
    {
     "data": {
      "text/plain": [
       "<pymongo.results.InsertManyResult at 0x1eac85a55c0>"
      ]
     },
     "execution_count": 76,
     "metadata": {},
     "output_type": "execute_result"
    }
   ],
   "source": [
    "complaints.insert_many(data)"
   ]
  },
  {
   "cell_type": "code",
   "execution_count": 81,
   "id": "81a228df",
   "metadata": {},
   "outputs": [
    {
     "data": {
      "text/plain": [
       "<pymongo.results.InsertManyResult at 0x1eac85e83c0>"
      ]
     },
     "execution_count": 81,
     "metadata": {},
     "output_type": "execute_result"
    }
   ],
   "source": [
    "complaints = insert_key_value_many(data, \"feedback_records\")\n",
    "complaints.insert_many(data)"
   ]
  },
  {
   "cell_type": "code",
   "execution_count": null,
   "id": "ba9b3c84",
   "metadata": {},
   "outputs": [],
   "source": []
  }
 ],
 "metadata": {
  "kernelspec": {
   "display_name": "keywordclassify",
   "language": "python",
   "name": "keywordclassify"
  },
  "language_info": {
   "codemirror_mode": {
    "name": "ipython",
    "version": 3
   },
   "file_extension": ".py",
   "mimetype": "text/x-python",
   "name": "python",
   "nbconvert_exporter": "python",
   "pygments_lexer": "ipython3",
   "version": "3.9.6"
  }
 },
 "nbformat": 4,
 "nbformat_minor": 5
}
