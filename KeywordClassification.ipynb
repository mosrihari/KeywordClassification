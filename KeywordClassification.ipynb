{
 "cells": [
  {
   "cell_type": "code",
   "execution_count": 11,
   "id": "f8e74cf8",
   "metadata": {},
   "outputs": [],
   "source": [
    "import pandas as pd\n",
    "import numpy as np\n",
    "from tensorflow import keras"
   ]
  },
  {
   "cell_type": "code",
   "execution_count": 12,
   "id": "49b6ab10",
   "metadata": {},
   "outputs": [
    {
     "name": "stderr",
     "output_type": "stream",
     "text": [
      "C:\\Users\\srihari_mohan\\Anaconda3\\envs\\keywordclassify\\lib\\site-packages\\IPython\\core\\interactiveshell.py:3441: DtypeWarning: Columns (5,11) have mixed types.Specify dtype option on import or set low_memory=False.\n",
      "  exec(code_obj, self.user_global_ns, self.user_ns)\n"
     ]
    }
   ],
   "source": [
    "df = pd.read_csv(\"consumer_complaints.csv\")"
   ]
  },
  {
   "cell_type": "code",
   "execution_count": 13,
   "id": "69de2b1b",
   "metadata": {},
   "outputs": [
    {
     "data": {
      "text/plain": [
       "Index(['date_received', 'product', 'sub_product', 'issue', 'sub_issue',\n",
       "       'consumer_complaint_narrative', 'company_public_response', 'company',\n",
       "       'state', 'zipcode', 'tags', 'consumer_consent_provided',\n",
       "       'submitted_via', 'date_sent_to_company', 'company_response_to_consumer',\n",
       "       'timely_response', 'consumer_disputed?', 'complaint_id'],\n",
       "      dtype='object')"
      ]
     },
     "execution_count": 13,
     "metadata": {},
     "output_type": "execute_result"
    }
   ],
   "source": [
    "df.columns"
   ]
  },
  {
   "cell_type": "code",
   "execution_count": 14,
   "id": "d6a5ccf7",
   "metadata": {},
   "outputs": [],
   "source": [
    "df = df[['product','consumer_complaint_narrative']]"
   ]
  },
  {
   "cell_type": "code",
   "execution_count": 15,
   "id": "ded54990",
   "metadata": {},
   "outputs": [
    {
     "data": {
      "text/plain": [
       "(555957, 2)"
      ]
     },
     "execution_count": 15,
     "metadata": {},
     "output_type": "execute_result"
    }
   ],
   "source": [
    "df.shape"
   ]
  },
  {
   "cell_type": "code",
   "execution_count": 16,
   "id": "b435464c",
   "metadata": {},
   "outputs": [],
   "source": [
    "df.dropna(axis=0,inplace=True)"
   ]
  },
  {
   "cell_type": "code",
   "execution_count": 17,
   "id": "d919af2a",
   "metadata": {},
   "outputs": [
    {
     "data": {
      "text/plain": [
       "(66806, 2)"
      ]
     },
     "execution_count": 17,
     "metadata": {},
     "output_type": "execute_result"
    }
   ],
   "source": [
    "df.shape"
   ]
  },
  {
   "cell_type": "code",
   "execution_count": 18,
   "id": "2b76448d",
   "metadata": {},
   "outputs": [
    {
     "data": {
      "text/plain": [
       "Debt collection            17552\n",
       "Mortgage                   14919\n",
       "Credit reporting           12526\n",
       "Credit card                 7929\n",
       "Bank account or service     5711\n",
       "Consumer Loan               3678\n",
       "Student loan                2128\n",
       "Prepaid card                 861\n",
       "Payday loan                  726\n",
       "Money transfers              666\n",
       "Other financial service      110\n",
       "Name: product, dtype: int64"
      ]
     },
     "execution_count": 18,
     "metadata": {},
     "output_type": "execute_result"
    }
   ],
   "source": [
    "df['product'].value_counts()"
   ]
  },
  {
   "cell_type": "code",
   "execution_count": 19,
   "id": "3997deab",
   "metadata": {},
   "outputs": [
    {
     "data": {
      "text/plain": [
       "190126    XXXX has claimed I owe them {$27.00} for XXXX ...\n",
       "190135    Due to inconsistencies in the amount owed that...\n",
       "190155    In XX/XX/XXXX my wages that I earned at my job...\n",
       "190207    I have an open and current mortgage with Chase...\n",
       "190208    XXXX was submitted XX/XX/XXXX. At the time I s...\n",
       "                                ...                        \n",
       "553084    XXXX XXXX is reporting incorrectly, payments h...\n",
       "553085    Reflecting incorrect payment status. Have been...\n",
       "553086    I have been paying {$180.00} a month through d...\n",
       "553090    I recently became aware that Amerisave Mortgag...\n",
       "553096    Bank of America has demonstrated an on-going l...\n",
       "Name: consumer_complaint_narrative, Length: 66806, dtype: object"
      ]
     },
     "execution_count": 19,
     "metadata": {},
     "output_type": "execute_result"
    }
   ],
   "source": [
    "df['consumer_complaint_narrative']"
   ]
  },
  {
   "cell_type": "code",
   "execution_count": 13,
   "id": "e6fc9d73",
   "metadata": {},
   "outputs": [],
   "source": [
    "# !pip install spacy\n",
    "# !pip install nltk"
   ]
  },
  {
   "cell_type": "code",
   "execution_count": 1,
   "id": "f90b40e9",
   "metadata": {},
   "outputs": [],
   "source": [
    "import re\n",
    "import spacy"
   ]
  },
  {
   "cell_type": "code",
   "execution_count": 5,
   "id": "30d799ff",
   "metadata": {},
   "outputs": [],
   "source": [
    "# !python -m spacy download en_core_web_sm"
   ]
  },
  {
   "cell_type": "code",
   "execution_count": 6,
   "id": "769c61ad",
   "metadata": {},
   "outputs": [],
   "source": [
    "spacy_nlp = spacy.load('en_core_web_sm')"
   ]
  },
  {
   "cell_type": "code",
   "execution_count": 51,
   "id": "d01d834d",
   "metadata": {},
   "outputs": [],
   "source": [
    "doc = spacy_nlp(df['consumer_complaint_narrative'][190126])\n",
    "tokens = ' '.join([token.lemma_ for token in doc if not token.is_stop])"
   ]
  },
  {
   "cell_type": "code",
   "execution_count": 52,
   "id": "d478c688",
   "metadata": {},
   "outputs": [
    {
     "data": {
      "text/plain": [
       "'XXXX claim owe { $ 27.00 } XXXX year despite proof PAYMENT send : cancel check ownpaid INVOICE { $ 27.00 } ! \\n continue insist owe collection agency . \\n stop harassment bill pay year ago ? \\n'"
      ]
     },
     "execution_count": 52,
     "metadata": {},
     "output_type": "execute_result"
    }
   ],
   "source": [
    "tokens"
   ]
  },
  {
   "cell_type": "code",
   "execution_count": 31,
   "id": "b4dea9bf",
   "metadata": {},
   "outputs": [
    {
     "data": {
      "text/plain": [
       "'XXXX has claimed I owe them {$27.00} for XXXX years despite the PROOF of PAYMENT I sent them : canceled check and their ownPAID INVOICE for {$27.00}! \\nThey continue to insist I owe them and collection agencies are after me. \\nHow can I stop this harassment for a bill I already paid four years ago? \\n'"
      ]
     },
     "execution_count": 31,
     "metadata": {},
     "output_type": "execute_result"
    }
   ],
   "source": [
    "df['consumer_complaint_narrative'][190126]"
   ]
  },
  {
   "cell_type": "code",
   "execution_count": 34,
   "id": "a7d5c14b",
   "metadata": {},
   "outputs": [
    {
     "data": {
      "text/plain": [
       "'XXXX have claim I owe they { $ 27.00 } for XXXX year despite the proof of PAYMENT I send they : cancel check and their ownpaid INVOICE for { $ 27.00 } ! \\n they continue to insist I owe they and collection agency be after I . \\n how can I stop this harassment for a bill I already pay four year ago ? \\n'"
      ]
     },
     "execution_count": 34,
     "metadata": {},
     "output_type": "execute_result"
    }
   ],
   "source": [
    "\n",
    "' '.join([token.lemma_ for token in doc])"
   ]
  },
  {
   "cell_type": "code",
   "execution_count": 35,
   "id": "55da0390",
   "metadata": {},
   "outputs": [],
   "source": [
    "REPLACE_BY_SPACE_RE = re.compile('[/(){}\\[\\]\\|@,;]')\n",
    "BAD_SYMBOLS_RE = re.compile('[^0-9a-z #+_]')"
   ]
  },
  {
   "cell_type": "code",
   "execution_count": 36,
   "id": "5ae1d9f6",
   "metadata": {},
   "outputs": [
    {
     "data": {
      "text/plain": [
       "re.compile(r'[/(){}\\[\\]\\|@,;]', re.UNICODE)"
      ]
     },
     "execution_count": 36,
     "metadata": {},
     "output_type": "execute_result"
    }
   ],
   "source": [
    "REPLACE_BY_SPACE_RE"
   ]
  },
  {
   "cell_type": "code",
   "execution_count": 37,
   "id": "4701b1d5",
   "metadata": {},
   "outputs": [],
   "source": [
    "mytext = df['consumer_complaint_narrative'][190126]"
   ]
  },
  {
   "cell_type": "code",
   "execution_count": 39,
   "id": "9c06c0ce",
   "metadata": {},
   "outputs": [
    {
     "data": {
      "text/plain": [
       "'XXXX has claimed I owe them $27.00 for XXXX years despite the PROOF of PAYMENT I sent them : canceled check and their ownPAID INVOICE for $27.00! \\nThey continue to insist I owe them and collection agencies are after me. \\nHow can I stop this harassment for a bill I already paid four years ago? \\n'"
      ]
     },
     "execution_count": 39,
     "metadata": {},
     "output_type": "execute_result"
    }
   ],
   "source": [
    "re.sub(REPLACE_BY_SPACE_RE, \"\", string=mytext)"
   ]
  },
  {
   "cell_type": "code",
   "execution_count": 56,
   "id": "295b1f52",
   "metadata": {},
   "outputs": [],
   "source": [
    "def clean_text(text):\n",
    "    text = text.lower()\n",
    "    text = re.sub(REPLACE_BY_SPACE_RE, \"\", string=text)\n",
    "    text = re.sub(BAD_SYMBOLS_RE,\"\", string=text)\n",
    "    text = text.replace(\"x\",\"\")\n",
    "    doc = spacy_nlp(text)\n",
    "    lemmatized_no_stopwords = ' '.join([token.lemma_ for token in doc if not token.is_stop])\n",
    "    \n",
    "    return lemmatized_no_stopwords"
   ]
  },
  {
   "cell_type": "code",
   "execution_count": 57,
   "id": "213e3dff",
   "metadata": {},
   "outputs": [
    {
     "name": "stderr",
     "output_type": "stream",
     "text": [
      "C:\\Users\\SRIHAR~1\\AppData\\Local\\Temp/ipykernel_16528/3235012849.py:2: FutureWarning: The default value of regex will change from True to False in a future version.\n",
      "  df['consumer_complaint_narrative'] = df['consumer_complaint_narrative'].str.replace('\\d+', '')\n"
     ]
    }
   ],
   "source": [
    "df['consumer_complaint_narrative'] = df['consumer_complaint_narrative'].apply(clean_text)\n",
    "df['consumer_complaint_narrative'] = df['consumer_complaint_narrative'].str.replace('\\d+', '')"
   ]
  },
  {
   "cell_type": "code",
   "execution_count": 58,
   "id": "bdcf5ad5",
   "metadata": {},
   "outputs": [],
   "source": [
    "df.to_csv(\"consumer_complaints_preprocessed.csv\",index=False)"
   ]
  },
  {
   "cell_type": "code",
   "execution_count": 60,
   "id": "c32da6fa",
   "metadata": {},
   "outputs": [
    {
     "data": {
      "text/html": [
       "<div>\n",
       "<style scoped>\n",
       "    .dataframe tbody tr th:only-of-type {\n",
       "        vertical-align: middle;\n",
       "    }\n",
       "\n",
       "    .dataframe tbody tr th {\n",
       "        vertical-align: top;\n",
       "    }\n",
       "\n",
       "    .dataframe thead th {\n",
       "        text-align: right;\n",
       "    }\n",
       "</style>\n",
       "<table border=\"1\" class=\"dataframe\">\n",
       "  <thead>\n",
       "    <tr style=\"text-align: right;\">\n",
       "      <th></th>\n",
       "      <th>product</th>\n",
       "      <th>consumer_complaint_narrative</th>\n",
       "    </tr>\n",
       "  </thead>\n",
       "  <tbody>\n",
       "    <tr>\n",
       "      <th>190126</th>\n",
       "      <td>Debt collection</td>\n",
       "      <td>claim owe    year despite proof payment send...</td>\n",
       "    </tr>\n",
       "    <tr>\n",
       "      <th>190135</th>\n",
       "      <td>Consumer Loan</td>\n",
       "      <td>inconsistency owe tell m   t bank report credi...</td>\n",
       "    </tr>\n",
       "    <tr>\n",
       "      <th>190155</th>\n",
       "      <td>Mortgage</td>\n",
       "      <td>wage earn job decrease half   know trouble h...</td>\n",
       "    </tr>\n",
       "    <tr>\n",
       "      <th>190207</th>\n",
       "      <td>Mortgage</td>\n",
       "      <td>open current mortgage chase bank #   chase rep...</td>\n",
       "    </tr>\n",
       "    <tr>\n",
       "      <th>190208</th>\n",
       "      <td>Mortgage</td>\n",
       "      <td>submit   time submit complaint deal rushmore...</td>\n",
       "    </tr>\n",
       "  </tbody>\n",
       "</table>\n",
       "</div>"
      ],
      "text/plain": [
       "                product                       consumer_complaint_narrative\n",
       "190126  Debt collection    claim owe    year despite proof payment send...\n",
       "190135    Consumer Loan  inconsistency owe tell m   t bank report credi...\n",
       "190155         Mortgage    wage earn job decrease half   know trouble h...\n",
       "190207         Mortgage  open current mortgage chase bank #   chase rep...\n",
       "190208         Mortgage    submit   time submit complaint deal rushmore..."
      ]
     },
     "execution_count": 60,
     "metadata": {},
     "output_type": "execute_result"
    }
   ],
   "source": [
    "df.head()"
   ]
  },
  {
   "cell_type": "markdown",
   "id": "3dbbd6b7",
   "metadata": {},
   "source": [
    "# Apply LSTM model"
   ]
  },
  {
   "cell_type": "code",
   "execution_count": 3,
   "id": "cd64b453",
   "metadata": {},
   "outputs": [
    {
     "name": "stdout",
     "output_type": "stream",
     "text": [
      "Collecting scikit-learn\n",
      "  Downloading scikit_learn-0.24.2-cp39-cp39-win_amd64.whl (6.9 MB)\n",
      "Collecting threadpoolctl>=2.0.0\n",
      "  Using cached threadpoolctl-2.2.0-py3-none-any.whl (12 kB)\n",
      "Requirement already satisfied: numpy>=1.13.3 in c:\\users\\srihari_mohan\\anaconda3\\envs\\keywordclassify\\lib\\site-packages (from scikit-learn) (1.19.5)\n",
      "Requirement already satisfied: joblib>=0.11 in c:\\users\\srihari_mohan\\anaconda3\\envs\\keywordclassify\\lib\\site-packages (from scikit-learn) (1.0.1)\n",
      "Collecting scipy>=0.19.1\n",
      "  Downloading scipy-1.7.1-cp39-cp39-win_amd64.whl (33.8 MB)\n",
      "Installing collected packages: threadpoolctl, scipy, scikit-learn\n",
      "Successfully installed scikit-learn-0.24.2 scipy-1.7.1 threadpoolctl-2.2.0\n"
     ]
    }
   ],
   "source": [
    "!pip install scikit-learn"
   ]
  },
  {
   "cell_type": "code",
   "execution_count": 1,
   "id": "76d06e27",
   "metadata": {},
   "outputs": [],
   "source": [
    "import pandas as pd\n",
    "import numpy as np\n",
    "from tensorflow import keras\n",
    "from sklearn.model_selection import train_test_split\n",
    "from tensorflow.keras.preprocessing.text import Tokenizer\n",
    "from tensorflow.keras.preprocessing.sequence import pad_sequences"
   ]
  },
  {
   "cell_type": "code",
   "execution_count": 2,
   "id": "d53f692d",
   "metadata": {},
   "outputs": [],
   "source": [
    "df = pd.read_csv(\"consumer_complaints_preprocessed.csv\")"
   ]
  },
  {
   "cell_type": "code",
   "execution_count": 3,
   "id": "20d5bca1",
   "metadata": {},
   "outputs": [
    {
     "data": {
      "text/html": [
       "<div>\n",
       "<style scoped>\n",
       "    .dataframe tbody tr th:only-of-type {\n",
       "        vertical-align: middle;\n",
       "    }\n",
       "\n",
       "    .dataframe tbody tr th {\n",
       "        vertical-align: top;\n",
       "    }\n",
       "\n",
       "    .dataframe thead th {\n",
       "        text-align: right;\n",
       "    }\n",
       "</style>\n",
       "<table border=\"1\" class=\"dataframe\">\n",
       "  <thead>\n",
       "    <tr style=\"text-align: right;\">\n",
       "      <th></th>\n",
       "      <th>product</th>\n",
       "      <th>consumer_complaint_narrative</th>\n",
       "    </tr>\n",
       "  </thead>\n",
       "  <tbody>\n",
       "    <tr>\n",
       "      <th>19849</th>\n",
       "      <td>Debt collection</td>\n",
       "      <td>NaN</td>\n",
       "    </tr>\n",
       "    <tr>\n",
       "      <th>45598</th>\n",
       "      <td>Debt collection</td>\n",
       "      <td>NaN</td>\n",
       "    </tr>\n",
       "    <tr>\n",
       "      <th>58667</th>\n",
       "      <td>Debt collection</td>\n",
       "      <td>NaN</td>\n",
       "    </tr>\n",
       "  </tbody>\n",
       "</table>\n",
       "</div>"
      ],
      "text/plain": [
       "               product consumer_complaint_narrative\n",
       "19849  Debt collection                          NaN\n",
       "45598  Debt collection                          NaN\n",
       "58667  Debt collection                          NaN"
      ]
     },
     "execution_count": 3,
     "metadata": {},
     "output_type": "execute_result"
    }
   ],
   "source": [
    "df[df['consumer_complaint_narrative'].isnull()]"
   ]
  },
  {
   "cell_type": "code",
   "execution_count": 4,
   "id": "39a3a3c0",
   "metadata": {},
   "outputs": [
    {
     "data": {
      "text/plain": [
       "product                         0\n",
       "consumer_complaint_narrative    3\n",
       "dtype: int64"
      ]
     },
     "execution_count": 4,
     "metadata": {},
     "output_type": "execute_result"
    }
   ],
   "source": [
    "df.isnull().sum()"
   ]
  },
  {
   "cell_type": "code",
   "execution_count": 5,
   "id": "0fe98f68",
   "metadata": {},
   "outputs": [],
   "source": [
    "df.dropna(inplace=True,axis=0)"
   ]
  },
  {
   "cell_type": "code",
   "execution_count": 6,
   "id": "9ca0cb93",
   "metadata": {},
   "outputs": [
    {
     "name": "stdout",
     "output_type": "stream",
     "text": [
      "53427\n"
     ]
    }
   ],
   "source": [
    "num_vocab = 5000\n",
    "tokenizer = Tokenizer(num_words = num_vocab,lower=True, oov_token='OOV')\n",
    "tokenizer.fit_on_texts(df['consumer_complaint_narrative'].values)\n",
    "word_index = tokenizer.word_index\n",
    "print(len(word_index))"
   ]
  },
  {
   "cell_type": "code",
   "execution_count": 7,
   "id": "95500995",
   "metadata": {},
   "outputs": [],
   "source": [
    "X = tokenizer.texts_to_sequences(df['consumer_complaint_narrative'].values)"
   ]
  },
  {
   "cell_type": "code",
   "execution_count": 8,
   "id": "a3537d44",
   "metadata": {},
   "outputs": [
    {
     "name": "stdout",
     "output_type": "stream",
     "text": [
      "  claim owe year despite proof payment send cancel check OOV invoice continue insist owe collection agency stop harassment bill pay year ago\n"
     ]
    }
   ],
   "source": [
    "check = X[0]\n",
    "sentence = ' '\n",
    "for c in check:\n",
    "    word = list(word_index.keys())[list(word_index.values()).index(c)]\n",
    "    sentence = sentence + ' ' + word\n",
    "print(sentence)\n",
    "# check for OOV"
   ]
  },
  {
   "cell_type": "code",
   "execution_count": 9,
   "id": "7dfde532",
   "metadata": {},
   "outputs": [
    {
     "data": {
      "text/plain": [
       "'  claim owe    year despite proof payment send   cancel check ownpaid invoice  continue insist owe collection agency stop harassment bill pay year ago'"
      ]
     },
     "execution_count": 9,
     "metadata": {},
     "output_type": "execute_result"
    }
   ],
   "source": [
    "df['consumer_complaint_narrative'][0] #raw value"
   ]
  },
  {
   "cell_type": "code",
   "execution_count": 10,
   "id": "acb252c1",
   "metadata": {},
   "outputs": [],
   "source": [
    "MAX_SEQUENCE_LENGTH = 250\n",
    "EMBEDDING_DIM = 100\n",
    "\n",
    "X = pad_sequences(X,maxlen=MAX_SEQUENCE_LENGTH)"
   ]
  },
  {
   "cell_type": "code",
   "execution_count": 11,
   "id": "92c0290a",
   "metadata": {},
   "outputs": [],
   "source": [
    "y = pd.get_dummies(df['product']).values"
   ]
  },
  {
   "cell_type": "code",
   "execution_count": 12,
   "id": "f060653e",
   "metadata": {},
   "outputs": [],
   "source": [
    "X_train, X_test, y_train, y_test = train_test_split(X,y, test_size = 0.20, random_state = 42, stratify=y)"
   ]
  },
  {
   "cell_type": "code",
   "execution_count": 13,
   "id": "a5b75e54",
   "metadata": {},
   "outputs": [],
   "source": [
    "from tensorflow.keras.layers import SpatialDropout1D, Embedding, LSTM, Bidirectional, Dense\n",
    "from tensorflow.keras.models import Sequential\n",
    "from tensorflow.keras.optimizers import Optimizer"
   ]
  },
  {
   "cell_type": "code",
   "execution_count": 14,
   "id": "7cf302d0",
   "metadata": {},
   "outputs": [
    {
     "data": {
      "text/plain": [
       "(53442, 250)"
      ]
     },
     "execution_count": 14,
     "metadata": {},
     "output_type": "execute_result"
    }
   ],
   "source": [
    "X_train.shape"
   ]
  },
  {
   "cell_type": "code",
   "execution_count": 15,
   "id": "b53b1a58",
   "metadata": {},
   "outputs": [
    {
     "data": {
      "text/plain": [
       "(53442, 11)"
      ]
     },
     "execution_count": 15,
     "metadata": {},
     "output_type": "execute_result"
    }
   ],
   "source": [
    "y_train.shape"
   ]
  },
  {
   "cell_type": "code",
   "execution_count": 16,
   "id": "759b984e",
   "metadata": {},
   "outputs": [],
   "source": [
    "model = Sequential()\n",
    "model.add(Embedding(num_vocab, EMBEDDING_DIM, input_length=X_train.shape[1]))\n",
    "model.add(SpatialDropout1D(0.1))\n",
    "model.add(LSTM(100, dropout=0.2, recurrent_dropout=0.2))\n",
    "model.add(Dense(y_train.shape[1], activation='softmax'))\n",
    "model.compile(loss='categorical_crossentropy', optimizer='adam', metrics=['accuracy'])\n",
    "\n",
    "epochs = 5\n",
    "batch_size = 64\n"
   ]
  },
  {
   "cell_type": "code",
   "execution_count": 17,
   "id": "9eefbab2",
   "metadata": {},
   "outputs": [
    {
     "name": "stdout",
     "output_type": "stream",
     "text": [
      "Epoch 1/5\n",
      "752/752 [==============================] - 641s 849ms/step - loss: 1.1273 - accuracy: 0.6476 - val_loss: 0.8544 - val_accuracy: 0.7340\n",
      "Epoch 2/5\n",
      "752/752 [==============================] - 600s 797ms/step - loss: 0.7759 - accuracy: 0.7660 - val_loss: 0.7285 - val_accuracy: 0.7762\n",
      "Epoch 3/5\n",
      "752/752 [==============================] - 4392s 6s/step - loss: 0.6944 - accuracy: 0.7920 - val_loss: 0.7335 - val_accuracy: 0.7807\n",
      "Epoch 4/5\n",
      "752/752 [==============================] - 669s 890ms/step - loss: 0.5827 - accuracy: 0.8262 - val_loss: 0.6059 - val_accuracy: 0.8219\n",
      "Epoch 5/5\n",
      "752/752 [==============================] - 780s 1s/step - loss: 0.5135 - accuracy: 0.8494 - val_loss: 0.6456 - val_accuracy: 0.8153\n"
     ]
    }
   ],
   "source": [
    "history = model.fit(X_train, y_train, epochs=epochs, batch_size=batch_size,validation_split=0.1)"
   ]
  },
  {
   "cell_type": "code",
   "execution_count": 18,
   "id": "6f502d17",
   "metadata": {},
   "outputs": [],
   "source": [
    "model.save(\"keyword_model.h5\")"
   ]
  },
  {
   "cell_type": "code",
   "execution_count": 20,
   "id": "678b7691",
   "metadata": {},
   "outputs": [],
   "source": [
    "import pickle\n",
    "with open(\"tokenizer.pkl\",\"wb\") as myfile:\n",
    "    pickle.dump(tokenizer, myfile)"
   ]
  },
  {
   "cell_type": "code",
   "execution_count": 21,
   "id": "3cdb2ea8",
   "metadata": {},
   "outputs": [],
   "source": [
    "with open(\"tokenizer.pkl\",\"rb\") as r:\n",
    "    t = pickle.load(r)"
   ]
  },
  {
   "cell_type": "code",
   "execution_count": 23,
   "id": "1d36b5e8",
   "metadata": {},
   "outputs": [
    {
     "data": {
      "text/plain": [
       "[[],\n",
       " [],\n",
       " [825],\n",
       " [1363],\n",
       " [2701],\n",
       " [2038],\n",
       " [109],\n",
       " [],\n",
       " [1778],\n",
       " [1812],\n",
       " [646],\n",
       " [],\n",
       " [],\n",
       " [],\n",
       " [],\n",
       " [2749],\n",
       " [646],\n",
       " [2701],\n",
       " [1997],\n",
       " [],\n",
       " [240],\n",
       " [646],\n",
       " [23],\n",
       " [1811],\n",
       " [2038],\n",
       " [452],\n",
       " [646],\n",
       " [],\n",
       " [1811],\n",
       " [1997],\n",
       " [1778],\n",
       " [1778],\n",
       " [1628],\n",
       " [],\n",
       " [1811],\n",
       " [2701],\n",
       " [2749],\n",
       " [109],\n",
       " [646],\n",
       " [1731],\n",
       " [452],\n",
       " [],\n",
       " [23],\n",
       " [646],\n",
       " [1731],\n",
       " [240],\n",
       " [],\n",
       " [],\n",
       " [],\n",
       " [825],\n",
       " [2701],\n",
       " [1731],\n",
       " [825],\n",
       " [646],\n",
       " [1363],\n",
       " [],\n",
       " [825],\n",
       " [3046],\n",
       " [646],\n",
       " [825],\n",
       " [1710],\n",
       " [],\n",
       " [1778],\n",
       " [1812],\n",
       " [1731],\n",
       " [1811],\n",
       " [2701],\n",
       " [2038],\n",
       " [240],\n",
       " [],\n",
       " [2038],\n",
       " [1731],\n",
       " [2004],\n",
       " [1778],\n",
       " [2038],\n",
       " [825],\n",
       " [646],\n",
       " [],\n",
       " [],\n",
       " [825],\n",
       " [1778],\n",
       " [1731],\n",
       " [452],\n",
       " [2038],\n",
       " [1731],\n",
       " [1760],\n",
       " [646],\n",
       " [],\n",
       " [2038],\n",
       " [1731],\n",
       " [23],\n",
       " [2038],\n",
       " [23],\n",
       " [452],\n",
       " [],\n",
       " [1778],\n",
       " [1812],\n",
       " [646],\n",
       " [],\n",
       " [825],\n",
       " [1778],\n",
       " [1363],\n",
       " [1363],\n",
       " [646],\n",
       " [825],\n",
       " [452],\n",
       " [2038],\n",
       " [1778],\n",
       " [1731],\n",
       " [],\n",
       " [2701],\n",
       " [1482],\n",
       " [646],\n",
       " [1731],\n",
       " [825],\n",
       " [2749],\n",
       " [],\n",
       " [23],\n",
       " [452],\n",
       " [1778],\n",
       " [1811],\n",
       " [],\n",
       " [3046],\n",
       " [2701],\n",
       " [1997],\n",
       " [2701],\n",
       " [23],\n",
       " [23],\n",
       " [109],\n",
       " [646],\n",
       " [1731],\n",
       " [452],\n",
       " [],\n",
       " [507],\n",
       " [2038],\n",
       " [1363],\n",
       " [1363],\n",
       " [],\n",
       " [1811],\n",
       " [2701],\n",
       " [2749],\n",
       " [],\n",
       " [2749],\n",
       " [646],\n",
       " [2701],\n",
       " [1997],\n",
       " [],\n",
       " [2701],\n",
       " [1482],\n",
       " [1778]]"
      ]
     },
     "execution_count": 23,
     "metadata": {},
     "output_type": "execute_result"
    }
   ],
   "source": [
    "t.texts_to_sequences(df['consumer_complaint_narrative'][0])"
   ]
  },
  {
   "cell_type": "code",
   "execution_count": 24,
   "id": "a6eeec94",
   "metadata": {},
   "outputs": [
    {
     "name": "stdout",
     "output_type": "stream",
     "text": [
      "[[6.0859401e-02 5.8444473e-03 8.7901622e-01 8.9431554e-03 1.8662320e-02\n",
      "  5.8058678e-04 3.0937444e-03 5.5169128e-04 1.4589055e-04 2.2226304e-02\n",
      "  7.6301374e-05]] Mortgage\n"
     ]
    }
   ],
   "source": [
    "new_complaint = ['I am a victim of identity theft and someone stole my identity and personal information to open up a Visa credit card account with Bank of America. The following Bank of America Visa credit card account do not belong to me : XXXX.']\n",
    "seq = t.texts_to_sequences(new_complaint)\n",
    "padded = pad_sequences(seq, maxlen=MAX_SEQUENCE_LENGTH)\n",
    "pred = model.predict(padded)\n",
    "labels = ['Credit reporting, credit repair services, or other personal consumer reports', 'Debt collection', 'Mortgage', 'Credit card or prepaid card', 'Student loan', 'Bank account or service', 'Checking or savings account', 'Consumer Loan', 'Payday loan, title loan, or personal loan', 'Vehicle loan or lease', 'Money transfer, virtual currency, or money service', 'Money transfers', 'Prepaid card']\n",
    "print(pred, labels[np.argmax(pred)])"
   ]
  },
  {
   "cell_type": "code",
   "execution_count": 25,
   "id": "39519297",
   "metadata": {},
   "outputs": [
    {
     "data": {
      "text/plain": [
       "250"
      ]
     },
     "execution_count": 25,
     "metadata": {},
     "output_type": "execute_result"
    }
   ],
   "source": [
    "MAX_SEQUENCE_LENGTH"
   ]
  },
  {
   "cell_type": "code",
   "execution_count": 33,
   "id": "426a89e9",
   "metadata": {},
   "outputs": [
    {
     "data": {
      "text/plain": [
       "11"
      ]
     },
     "execution_count": 33,
     "metadata": {},
     "output_type": "execute_result"
    }
   ],
   "source": [
    "y_train.shape[1]"
   ]
  },
  {
   "cell_type": "code",
   "execution_count": 32,
   "id": "adcf692b",
   "metadata": {},
   "outputs": [
    {
     "data": {
      "text/plain": [
       "11"
      ]
     },
     "execution_count": 32,
     "metadata": {},
     "output_type": "execute_result"
    }
   ],
   "source": [
    "len(pd.get_dummies(df['product']).columns)"
   ]
  },
  {
   "cell_type": "code",
   "execution_count": 31,
   "id": "7c0a6c3f",
   "metadata": {},
   "outputs": [
    {
     "data": {
      "text/plain": [
       "'  claim owe    year despite proof payment send   cancel check ownpaid invoice  continue insist owe collection agency stop harassment bill pay year ago'"
      ]
     },
     "execution_count": 31,
     "metadata": {},
     "output_type": "execute_result"
    }
   ],
   "source": [
    "df['consumer_complaint_narrative'][0]"
   ]
  },
  {
   "cell_type": "code",
   "execution_count": null,
   "id": "211b6832",
   "metadata": {},
   "outputs": [],
   "source": []
  }
 ],
 "metadata": {
  "kernelspec": {
   "display_name": "keywordclassify",
   "language": "python",
   "name": "keywordclassify"
  },
  "language_info": {
   "codemirror_mode": {
    "name": "ipython",
    "version": 3
   },
   "file_extension": ".py",
   "mimetype": "text/x-python",
   "name": "python",
   "nbconvert_exporter": "python",
   "pygments_lexer": "ipython3",
   "version": "3.9.6"
  }
 },
 "nbformat": 4,
 "nbformat_minor": 5
}
